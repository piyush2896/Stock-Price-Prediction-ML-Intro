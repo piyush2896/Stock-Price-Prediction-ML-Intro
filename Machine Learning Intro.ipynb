{
 "cells": [
  {
   "cell_type": "markdown",
   "metadata": {},
   "source": [
    "# Machine Learning Introduction By Example\n",
    "Artificial Intelligence is a game changer in today's world. We live in society where AI is making appointments for us, Cars are driving themselves, netflix knows what show we will love to bing watch and Amazon's recommendations know are needs before we know about them!\n",
    "\n",
    "To be aware of this society where we have AI eating up the industry we need to know what really goes inside this mystery box. Today we will be opening up the box and will try to expand our knowledge one post at a time.\n",
    "\n",
    "What better way to learn a mysterious thing than to exploit its behavior for ourselves. So here we will try to build something very useful and interesting. Consider having an AI that tells you the future value of a stock. Cool right!\n",
    "\n",
    "Before going into the coding part let's have a crash course on what we are dealing with here - Machine Learning!!"
   ]
  },
  {
   "cell_type": "markdown",
   "metadata": {},
   "source": [
    "## Machine Learning\n",
    "Machine learning a set of techniques and algorithms that are applied to achieve a system that can improve with experience. There will be many formal definitions out there but this one gives a clear idea of what is the end goal!\n",
    "\n",
    "That said there are things that are learnt from a supervisor, there are things that need to learnt without any supervisor and yet there are things that are learnt from the reward of doing that thing! This brings us to the categories of Machine Learning:\n",
    "* Supervised Learning\n",
    "* Unsupervised Learning\n",
    "* Reinforcement Learning\n",
    "\n",
    "### Supervised Learning\n",
    "From the days we enter our schools till we pass it out we have a teacher as a supervisor that tells us what we have to do because he has an experience in that particular thing. We give him what we learnt and he tells us how wrong we are in our judgement and he continues to correct us. This leads us to a point that the judgement error we make is decreasing while our knowledge and experience in that field is increasing. This is what Supervised Learning is all about!\n",
    "\n",
    "In Supervised Learning we have a dataset that contains a pair of input and output. The task of the algorithm is to learn this mapping between input and output in such a manner that if it sees a new input that it hasn't seen before it should be able to guess the correct output. How does this happen? Any supervised learning algorithm follows this path:\n",
    "\n",
    "1) Training:\n",
    " - Pass input to the algorithm and let it make a guess.\n",
    " - See the error between the output of the algorithm and true output\n",
    " - Adjust the parameters of algorithm to better next time\n",
    " - Repeat till stopping criteria is met (Either repeat it `n` times or until you get satisfactory accuracy of error.)\n",
    " ![](images/training.gif)\n",
    "\n",
    "2) Testing: This phase is similar to training expcept that we do not iterate over it. This phase, as name suggests, is to test the performance of our algorithm (aka model - from this point forward I'll use this name) over a dataset that it hasn't seen in training period. This gives us a general idea of how good the model is for real scenario!"
   ]
  },
  {
   "cell_type": "markdown",
   "metadata": {},
   "source": [
    "### Unsupervised Learning\n",
    "Everything in life has a hidden pattern that governs the territory to which that thing belongs. Consider having a lion running at you, your brain immediately know that you are in danger! No one told you that its dangerous but you know it is. Will your brain react in similar way if a cat runs towards you. No right! Unsupervised Learning  is all about learning when there is no one to guide you what the input is all about. It brings about the hidden meaning in data.\n",
    "\n",
    "![](images/unsupervised.jpg)\n",
    "\n",
    "** We will get into it in detail in future posts! **"
   ]
  },
  {
   "cell_type": "markdown",
   "metadata": {},
   "source": [
    "### Reinforcement Learning\n",
    "Have you ever loved doing a task more than other tasks. That 5 mins sleep reward you take every morning that you know you shouldn't as it can cause a catastrophy for the whole day. Yeah that's what we are going to talk about here! People who doesn't go for the bait of a small reward as they have realised from past big penalties and have reinforced their actions to meet the big reward.\n",
    "\n",
    "Reinforcement learning is all about a machine deciding further actions that must be taken to maximize overall reward. The machine does this by taking into account past actions and what they led to. This means the more it work on same end goal the more experience it gets and the more rewarding its actions become.\n",
    "\n",
    "In general Reinforcement Learning takes in the state of the environment in which the machine/agent is and proposes an action. The action results in changing the state of the environment and generation of a reward. This reward is given to the RL and it decides the next action based on the reward it gets!\n",
    "\n",
    "![](images/rl.gif)"
   ]
  },
  {
   "cell_type": "markdown",
   "metadata": {},
   "source": [
    "### Some Machine Learning Vocabulary\n",
    "* Model: A Machine Learning algorithm trained to do a certain task\n",
    "* Features: The input data that we give to a model to predict the output.\n",
    "* labels: The ground truth that is expected to be predicted by a trained model.\n",
    "* Prediction: Output of a model given certain input.\n",
    "* X: The input matrix. Each row being input for one data point and each column being a feature of the input data.\n",
    "* Y: Each row being a lable correspoding to the input row in X.\n",
    "* Train data: Dataset used for training a Machine Learning model.\n",
    "* Test data: Dataset used for testing a trained model. This data is not shown to model until very end!\n",
    "* Loss Function: A function that gives a matric value of the error made by the model in prediction"
   ]
  },
  {
   "cell_type": "markdown",
   "metadata": {},
   "source": [
    "### Stock Price Predictor\n",
    "Enough of this crash course theory. Let's build our own Machine Learning model to predict stock prices!!\n",
    "\n",
    "What we will be needing:\n",
    "* Basic Python knowledge - [Learn Here](TODO ADD LINK)\n",
    "* NumPy: Numerical Computation Library for Python. [Learn Here](TODO ADD LINK) \n",
    "* Pandas - To Read csv file. Though we not be needing much of Pandas knowledge here. If you still want learn more about Pandas [Here](TODO ADD LINK)\n",
    "* Scikit-learn: Machine Learning Library for Python\n",
    "\n",
    "In this post we will be using Scikit-learn (aka sklearn) to produce an ML model. In future posts we will be building some from scratch as well as from this library. Remember these libraries are usually more optimized as they are a product of contributions of many people!"
   ]
  },
  {
   "cell_type": "code",
   "execution_count": 1,
   "metadata": {},
   "outputs": [],
   "source": [
    "import numpy as np\n",
    "import pandas as pd\n",
    "from sklearn.linear_model import LinearRegression"
   ]
  },
  {
   "cell_type": "markdown",
   "metadata": {},
   "source": [
    "Let's import our dataset and see first five and last five rows of the dataset."
   ]
  },
  {
   "cell_type": "code",
   "execution_count": 2,
   "metadata": {},
   "outputs": [
    {
     "name": "stdout",
     "output_type": "stream",
     "text": [
      "         date   open   high    low  close    volume Name\n",
      "0  2013-02-08  15.07  15.12  14.63  14.75   8407500  AAL\n",
      "1  2013-02-11  14.89  15.01  14.26  14.46   8882000  AAL\n",
      "2  2013-02-12  14.45  14.51  14.10  14.27   8126000  AAL\n",
      "3  2013-02-13  14.30  14.94  14.25  14.66  10259500  AAL\n",
      "4  2013-02-14  14.94  14.96  13.16  13.99  31879900  AAL\n"
     ]
    }
   ],
   "source": [
    "stock_df = pd.read_csv('dataset/all_stocks_5yr.csv')\n",
    "print(stock_df.head())"
   ]
  },
  {
   "cell_type": "code",
   "execution_count": 3,
   "metadata": {},
   "outputs": [
    {
     "name": "stdout",
     "output_type": "stream",
     "text": [
      "              date   open   high    low  close   volume Name\n",
      "619035  2018-02-01  76.84  78.27  76.69  77.82  2982259  ZTS\n",
      "619036  2018-02-02  77.53  78.12  76.73  76.78  2595187  ZTS\n",
      "619037  2018-02-05  76.64  76.92  73.18  73.83  2962031  ZTS\n",
      "619038  2018-02-06  72.74  74.56  72.13  73.27  4924323  ZTS\n",
      "619039  2018-02-07  72.70  75.00  72.69  73.86  4534912  ZTS\n"
     ]
    }
   ],
   "source": [
    "print(stock_df.tail())"
   ]
  },
  {
   "cell_type": "markdown",
   "metadata": {},
   "source": [
    "So we have around 600K lines and considering name column we have more than one stock. Let's look at the number of stocks available in this dataset!"
   ]
  },
  {
   "cell_type": "code",
   "execution_count": 4,
   "metadata": {},
   "outputs": [
    {
     "name": "stdout",
     "output_type": "stream",
     "text": [
      "505\n"
     ]
    }
   ],
   "source": [
    "print(len(np.unique(stock_df['Name'])))"
   ]
  },
  {
   "cell_type": "markdown",
   "metadata": {},
   "source": [
    "So, we have 505 stocks in this dataset. For sake of simplicity let's work on one stock for now. \n",
    "\n",
    "I have decided to go with *American Airlines Group Inc* or *AAL*. You can go with which ever one you like. To confirm that we have data for only one stock we will be looking at last 5 lines of the new dataset."
   ]
  },
  {
   "cell_type": "code",
   "execution_count": 5,
   "metadata": {},
   "outputs": [
    {
     "name": "stdout",
     "output_type": "stream",
     "text": [
      "            date   open   high    low  close   volume Name\n",
      "1254  2018-02-01  54.00  54.64  53.59  53.88  3623078  AAL\n",
      "1255  2018-02-02  53.49  53.99  52.03  52.10  5109361  AAL\n",
      "1256  2018-02-05  51.99  52.39  49.75  49.76  6878284  AAL\n",
      "1257  2018-02-06  49.32  51.50  48.79  51.18  6782480  AAL\n",
      "1258  2018-02-07  50.91  51.98  50.89  51.40  4845831  AAL\n"
     ]
    }
   ],
   "source": [
    "data_aal = stock_df[stock_df['Name'] == 'AAL']\n",
    "print(data_aal.tail())"
   ]
  },
  {
   "cell_type": "markdown",
   "metadata": {},
   "source": [
    "We will be using `open`, `high`, `low` and `close` amount for today to predict the `open` amount for next day. Let's collect our training data. There is a catch here. Remember the input will contain data of today and we need to predict for tomorrow so we will be using data of first row to predict openining price of second row and so on. In other words, the output data for training will not contain the details of first day and the input data will not contain the details of the last day."
   ]
  },
  {
   "cell_type": "code",
   "execution_count": 6,
   "metadata": {},
   "outputs": [],
   "source": [
    "X_train = data_aal[data_aal.columns[1:5]] # data_aal[['open', 'high', 'low', 'close']]\n",
    "Y_train = data_aal['open']"
   ]
  },
  {
   "cell_type": "code",
   "execution_count": 7,
   "metadata": {},
   "outputs": [],
   "source": [
    "X_train = X_train.as_matrix()[:-1]\n",
    "Y_train = Y_train.as_matrix()[1:]"
   ]
  },
  {
   "cell_type": "markdown",
   "metadata": {},
   "source": [
    "Let's create a new Linear Regression model to train. Its a linear model that will have 4 weights for each `open`, `high`, `low` and `close` value. It will try to find the best values for these four weights so that the weighted sum of the four values is as close to true output as possible."
   ]
  },
  {
   "cell_type": "code",
   "execution_count": 8,
   "metadata": {},
   "outputs": [],
   "source": [
    "lr = LinearRegression()"
   ]
  },
  {
   "cell_type": "markdown",
   "metadata": {},
   "source": [
    "The `fit()` function of this model will take in 2 values `X_train` the input data and `Y_train` the true output. It will iterate for some small number of times (as discussed in training part of Supervised Learning) and will find the best weights that give relation between input and output."
   ]
  },
  {
   "cell_type": "code",
   "execution_count": 9,
   "metadata": {},
   "outputs": [
    {
     "data": {
      "text/plain": [
       "LinearRegression(copy_X=True, fit_intercept=True, n_jobs=1, normalize=False)"
      ]
     },
     "execution_count": 9,
     "metadata": {},
     "output_type": "execute_result"
    }
   ],
   "source": [
    "lr.fit(X_train, Y_train)"
   ]
  },
  {
   "cell_type": "markdown",
   "metadata": {},
   "source": [
    "Now that we have a model trained and ready for testing let's test it out. I have gathered AAL's stock data from Yahoo finance for dates 12th April 2018 to 12th May 2018. This data was not available in our dataset and will give us a clear idea about the performance of our model! `score()` method of the Linear Regression model will give us the value of how good the model is in range of 0 to 1. 1 being perfect!"
   ]
  },
  {
   "cell_type": "code",
   "execution_count": 10,
   "metadata": {},
   "outputs": [],
   "source": [
    "data_aal_test = pd.read_csv('dataset/AAL.csv')\n",
    "X_test = data_aal_test[data_aal_test.columns[1:5]].as_matrix()[:-1]\n",
    "Y_test = data_aal_test['Open'].as_matrix()[1:]"
   ]
  },
  {
   "cell_type": "code",
   "execution_count": 11,
   "metadata": {},
   "outputs": [
    {
     "data": {
      "text/plain": [
       "0.9518816792866347"
      ]
     },
     "execution_count": 11,
     "metadata": {},
     "output_type": "execute_result"
    }
   ],
   "source": [
    "lr.score(X_test, Y_test)"
   ]
  },
  {
   "cell_type": "markdown",
   "metadata": {},
   "source": [
    "A 0.95 score is great for such a simple implementation. Let's build it into a simple application now!"
   ]
  },
  {
   "cell_type": "code",
   "execution_count": 12,
   "metadata": {},
   "outputs": [
    {
     "name": "stdout",
     "output_type": "stream",
     "text": [
      "Open: 42.92\n",
      "high: 43.23\n",
      "low: 42.12\n",
      "close: 42.44\n",
      "My Prediction the opening price will be: 42.4379797942\n"
     ]
    }
   ],
   "source": [
    "opening_price = float(input('Open: '))\n",
    "high = float(input('high: '))\n",
    "low = float(input('low: '))\n",
    "close = float(input('close: '))\n",
    "print('My Prediction the opening price will be:', lr.predict([[opening_price, high, low, close]])[0])"
   ]
  }
 ],
 "metadata": {
  "kernelspec": {
   "display_name": "Python 3",
   "language": "python",
   "name": "python3"
  },
  "language_info": {
   "codemirror_mode": {
    "name": "ipython",
    "version": 3
   },
   "file_extension": ".py",
   "mimetype": "text/x-python",
   "name": "python",
   "nbconvert_exporter": "python",
   "pygments_lexer": "ipython3",
   "version": "3.5.1"
  }
 },
 "nbformat": 4,
 "nbformat_minor": 2
}
